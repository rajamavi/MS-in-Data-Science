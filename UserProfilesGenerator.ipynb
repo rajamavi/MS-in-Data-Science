{
 "cells": [
  {
   "cell_type": "code",
   "execution_count": 6,
   "id": "a31bc9b5",
   "metadata": {},
   "outputs": [
    {
     "name": "stdout",
     "output_type": "stream",
     "text": [
      "Data is written successfully.\n"
     ]
    }
   ],
   "source": [
    "import pandas as pd\n",
    "import numpy as np\n",
    "from faker import Faker\n",
    "from geopy.geocoders import Nominatim\n",
    "\n",
    "class UserProfilesGenerator:\n",
    "    def __init__(self, num_users=100):\n",
    "        self.num_users = num_users\n",
    "        self.fake = Faker()\n",
    "        self.geolocator = Nominatim(user_agent=\"user_profiles_generator\")\n",
    "\n",
    "    def generate_data(self):\n",
    "        user_ids = [i for i in range(1, self.num_users + 1)]\n",
    "        names = [self.fake.name() for _ in range(self.num_users)]\n",
    "        ages = np.random.randint(18, 60, self.num_users)\n",
    "        genders = np.random.choice(['Male', 'Female'], self.num_users)\n",
    "        incomes = np.random.randint(30000, 100000, self.num_users)\n",
    "        contacts = [self.fake.phone_number() for _ in range(self.num_users)]\n",
    "        locations = [self.generate_random_location() for _ in range(self.num_users)]\n",
    "\n",
    "        user_profiles_data = pd.DataFrame({\n",
    "            'User_ID': user_ids,\n",
    "            'Name': names,\n",
    "            'Age': ages,\n",
    "            'Gender': genders,\n",
    "            'Income': incomes,\n",
    "            'Contact': contacts,\n",
    "            'Location': locations\n",
    "        })\n",
    "\n",
    "        try:\n",
    "            user_profiles_data.to_csv('UserProfiles_data.csv', index=False)\n",
    "            print(\"Data is written successfully.\")\n",
    "        except Exception as e:\n",
    "            print(f\"Error writing data: {e}\")\n",
    "\n",
    "    def generate_random_location(self):\n",
    "        # Generate random location and reverse geocode to get location name\n",
    "        lat, lon = np.random.uniform(-90, 90), np.random.uniform(-180, 180)\n",
    "        location = self.geolocator.reverse((lat, lon), language='en')\n",
    "        return location.address if location else f\"{lat:.6f}, {lon:.6f}\"\n",
    "\n",
    "# Create an instance of the UserProfilesGenerator\n",
    "generator = UserProfilesGenerator(num_users=100)\n",
    "# Generate and write data\n",
    "generator.generate_data()\n"
   ]
  }
 ],
 "metadata": {
  "kernelspec": {
   "display_name": "Python 3 (ipykernel)",
   "language": "python",
   "name": "python3"
  },
  "language_info": {
   "codemirror_mode": {
    "name": "ipython",
    "version": 3
   },
   "file_extension": ".py",
   "mimetype": "text/x-python",
   "name": "python",
   "nbconvert_exporter": "python",
   "pygments_lexer": "ipython3",
   "version": "3.11.5"
  }
 },
 "nbformat": 4,
 "nbformat_minor": 5
}
