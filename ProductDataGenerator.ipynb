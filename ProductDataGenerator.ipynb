{
 "cells": [
  {
   "cell_type": "code",
   "execution_count": 10,
   "id": "edb05380",
   "metadata": {},
   "outputs": [
    {
     "name": "stdout",
     "output_type": "stream",
     "text": [
      "Product data has been written.\n"
     ]
    }
   ],
   "source": [
    "import pandas as pd\n",
    "import numpy as np\n",
    "\n",
    "class ProductDataGenerator:\n",
    "    def __init__(self, num_products=50):\n",
    "        self.num_products = num_products\n",
    "\n",
    "    def generate_data(self):\n",
    "        product_ids = [i for i in range(1, self.num_products + 1)]\n",
    "\n",
    "        # Manually created list of real product names\n",
    "        product_names = [\n",
    "            'Laptop', 'Smartphone', 'Headphones', 'Camera', 'Television',\n",
    "            'T-Shirt', 'Jeans', 'Sneakers', 'Dress', 'Jacket',\n",
    "            'Book', 'E-reader', 'Notebook', 'Pen', 'Art Supplies',\n",
    "            'Refrigerator', 'Microwave', 'Blender', 'Coffee Maker', 'Toaster',\n",
    "            'Running Shoes', 'Backpack', 'Guitar', 'Fitness Tracker', 'Desk Chair',\n",
    "            'Watch', 'Sunglasses', 'Water Bottle', 'Yoga Mat', 'Plant',\n",
    "            'Handbag', 'Wallet', 'Sweater', 'Watch', 'Umbrella',\n",
    "            'Vacuum Cleaner', 'Air Purifier', 'Bed Sheets', 'Pillow', 'Curtains',\n",
    "            'Printed Books', 'Cookware Set', 'Dumbbells', 'Candles', 'Wall Clock',\n",
    "            'Sculpture', 'Cushions', 'Hiking Boots', 'Camping Tent', 'Sleeping Bag',\n",
    "        ]\n",
    "\n",
    "        # Matching each product with its corresponding category\n",
    "        categories = [\n",
    "            'Electronics', 'Electronics', 'Electronics', 'Electronics', 'Electronics',\n",
    "            'Clothing', 'Clothing', 'Clothing', 'Clothing', 'Clothing',\n",
    "            'Books', 'Books', 'Books', 'Books', 'Books',\n",
    "            'Home Appliances', 'Home Appliances', 'Home Appliances', 'Home Appliances', 'Home Appliances',\n",
    "            'Clothing', 'Clothing', 'Electronics', 'Electronics', 'Home Appliances',\n",
    "            'Accessories', 'Accessories', 'Accessories', 'Accessories', 'Accessories',\n",
    "            'Accessories', 'Accessories', 'Clothing', 'Accessories', 'Accessories',\n",
    "            'Home Appliances', 'Home Appliances', 'Home', 'Home', 'Home',\n",
    "            'Books', 'Home Appliances', 'Fitness', 'Home', 'Home',\n",
    "            'Art', 'Home', 'Clothing', 'Camping', 'Camping',\n",
    "        ]\n",
    "\n",
    "        prices = np.random.randint(10, 500, self.num_products)\n",
    "\n",
    "        product_data = pd.DataFrame({\n",
    "            'Product_ID': product_ids,\n",
    "            'Product_Name': product_names,\n",
    "            'Category': categories,\n",
    "            'Price': prices\n",
    "        })\n",
    "\n",
    "        file_path = r'C:\\Users\\Olivia\\Documents\\Fall-2023\\Big-Data-Technology\\Big-Daa_Project\\ProductData_data.csv'\n",
    "        product_data.to_csv(file_path, index=False)\n",
    "        print(\"Product data has been written.\")\n",
    "\n",
    "# Example usage\n",
    "generator = ProductDataGenerator(num_products=50)\n",
    "generator.generate_data()\n"
   ]
  }
 ],
 "metadata": {
  "kernelspec": {
   "display_name": "Python 3 (ipykernel)",
   "language": "python",
   "name": "python3"
  },
  "language_info": {
   "codemirror_mode": {
    "name": "ipython",
    "version": 3
   },
   "file_extension": ".py",
   "mimetype": "text/x-python",
   "name": "python",
   "nbconvert_exporter": "python",
   "pygments_lexer": "ipython3",
   "version": "3.11.5"
  }
 },
 "nbformat": 4,
 "nbformat_minor": 5
}
